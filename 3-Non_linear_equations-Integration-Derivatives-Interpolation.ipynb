{
 "cells": [
  {
   "cell_type": "code",
   "execution_count": 8,
   "metadata": {},
   "outputs": [
    {
     "name": "stdout",
     "output_type": "stream",
     "text": [
      "[-0.89442719  0.4472136 ]\n",
      "[0.0, 2.4868995751603507e-14]\n"
     ]
    }
   ],
   "source": [
    "# NON-LINEAR EQUATIONS\n",
    "from scipy.optimize import fsolve\n",
    "def f(z):\n",
    "    x = z[0]\n",
    "    y = z[1]\n",
    "    # Equations to solve:\n",
    "    # x+2*y = 0\n",
    "    # x^2 + y^2 = 1 ==> x^2 + y^2 - 1 = 0\n",
    "    return [x+2*y, x**2+y**2-1]\n",
    "\n",
    "#fsolve resolves the equation system by using guess and check\n",
    "# until it finds the solution to that non-linear equation system\n",
    "\n",
    "# initial guess value: it can be any pair of values you want.\n",
    "# Normally, you give small values, but it's no mandatory, you\n",
    "# could use, for example, [39821093281, -1564132] and the solution\n",
    "# would be the same.\n",
    "z0 = [-1, 1]\n",
    "# fsolve stops calculating when it found the values of x and y, ie,\n",
    "# x_sol and y_sol that give 0 in the equations x+2y and x**2+y**2-1, ie,\n",
    "# x_sol+2y_sol = 0 and x_sol**2+y_sol**2-1=0\n",
    "z = fsolve(f, z0)\n",
    "print(z)\n",
    "# The two values returned by f(·) must be zero, or just about zero,\n",
    "# because the list z contains the roots of the equations defined in\n",
    "# f(·)\n",
    "print(f(z))"
   ]
  },
  {
   "cell_type": "code",
   "execution_count": 46,
   "metadata": {},
   "outputs": [
    {
     "name": "stdout",
     "output_type": "stream",
     "text": [
      "(2.666666666666667, 2.960594732333751e-14)\n",
      "2.6666666666666665\n",
      " 3\n",
      "x \n",
      "──\n",
      "3 \n"
     ]
    },
    {
     "data": {
      "image/png": "[encoded data removed]",
      "text/latex": [
       "$$\\frac{8}{3}$$"
      ],
      "text/plain": [
       "8/3"
      ]
     },
     "execution_count": 46,
     "metadata": {},
     "output_type": "execute_result"
    }
   ],
   "source": [
    "# INTEGRATION\n",
    "from scipy.integrate import quad\n",
    "\n",
    "def f(x):\n",
    "    return x**2\n",
    "\n",
    "# First result returned by quad: the resulting value of the integral\n",
    "# Second result returned by quad: an estimation of the error with respect\n",
    "# to the correct result of the integral.\n",
    "print(quad(f, 0, 2))\n",
    "# The correct result for the integral of our function f(·) might have been\n",
    "# 2**3/3\n",
    "print(2**3/3)\n",
    "\n",
    "# SYMBOLIC SOLUTION\n",
    "import sympy as sym\n",
    "sym.init_printing()\n",
    "x = sym.Symbol('x')\n",
    "f = sym.integrate(x**2, x)\n",
    "sym.pprint(f)\n",
    "f.subs(x, 2)"
   ]
  },
  {
   "cell_type": "code",
   "execution_count": 59,
   "metadata": {},
   "outputs": [
    {
     "name": "stdout",
     "output_type": "stream",
     "text": [
      "13.0\n",
      "12.0000009929\n",
      "   2\n",
      "3⋅x \n"
     ]
    },
    {
     "data": {
      "image/png": "[encoded data removed]",
      "text/latex": [
       "$$12$$"
      ],
      "text/plain": [
       "12"
      ]
     },
     "execution_count": 59,
     "metadata": {},
     "output_type": "execute_result"
    }
   ],
   "source": [
    "# DIFERENTIATION\n",
    "from scipy.misc import derivative\n",
    "\n",
    "def f(x):\n",
    "    return x**3\n",
    "\n",
    "##x^3 -> derivative -> 3x^2\n",
    "# by default dx=1 -> so, the result may be incorrect\n",
    "print(derivative(f,2))\n",
    "# Let's change the value of dx to dx=1e-10\n",
    "print(derivative(f,2,dx=1e-10))\n",
    "\n",
    "# SYMBOLIC SOLUTION\n",
    "import sympy as sym\n",
    "sym.init_printing()\n",
    "x = sym.Symbol('x')\n",
    "f = sym.diff(x**3, x)\n",
    "sym.pprint(f)\n",
    "f.subs(x, 2)"
   ]
  },
  {
   "cell_type": "code",
   "execution_count": 106,
   "metadata": {},
   "outputs": [
    {
     "data": {
      "text/plain": [
       "[<matplotlib.lines.Line2D at 0x181d58df28>]"
      ]
     },
     "execution_count": 106,
     "metadata": {},
     "output_type": "execute_result"
    },
    {
     "data": {
      "image/png": "[encoded data removed]",
      "text/plain": [
       "<matplotlib.figure.Figure at 0x181d3f6978>"
      ]
     },
     "metadata": {},
     "output_type": "display_data"
    }
   ],
   "source": [
    "from scipy.interpolate import interp1d\n",
    "import numpy as np\n",
    "\n",
    "x = np.arange(0, 6, 1)\n",
    "y = np.array([0.1, 0.2, 0.3, 0.5, 1.0, 0.9])\n",
    "\n",
    "%matplotlib inline\n",
    "# matplotlib -> package\n",
    "# pyplot     -> module\n",
    "import matplotlib.pyplot as plt\n",
    "plt.plot(x, y, 'bo')\n",
    "\n",
    "x_new = np.linspace(0, 5, 1000)\n",
    "\n",
    "y1 = interp1d(x, y, kind='linear')\n",
    "plt.plot(x_new, y1(x_new), 'r-')\n",
    "\n",
    "y2 = interp1d(x, y, kind='quadratic')\n",
    "plt.plot(x_new, y2(x_new), 'k--')\n",
    "\n",
    "y3 = interp1d(x, y, kind='cubic')\n",
    "plt.plot(x_new, y3(x_new), 'g-.')"
   ]
  },
  {
   "cell_type": "code",
   "execution_count": null,
   "metadata": {
    "collapsed": true
   },
   "outputs": [],
   "source": []
  },
  {
   "cell_type": "code",
   "execution_count": null,
   "metadata": {
    "collapsed": true
   },
   "outputs": [],
   "source": []
  },
  {
   "cell_type": "code",
   "execution_count": null,
   "metadata": {
    "collapsed": true
   },
   "outputs": [],
   "source": []
  }
 ],
 "metadata": {
  "kernelspec": {
   "display_name": "Python 3",
   "language": "python",
   "name": "python3"
  },
  "language_info": {
   "codemirror_mode": {
    "name": "ipython",
    "version": 3
   },
   "file_extension": ".py",
   "mimetype": "text/x-python",
   "name": "python",
   "nbconvert_exporter": "python",
   "pygments_lexer": "ipython3",
   "version": "3.6.2"
  }
 },
 "nbformat": 4,
 "nbformat_minor": 2
}
