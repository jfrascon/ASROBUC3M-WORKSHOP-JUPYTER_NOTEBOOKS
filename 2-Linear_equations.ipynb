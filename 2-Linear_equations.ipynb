{
 "cells": [
  {
   "cell_type": "code",
   "execution_count": 17,
   "metadata": {},
   "outputs": [
    {
     "data": {
      "image/png": "[encoded data removed]",
      "text/plain": [
       "<matplotlib.figure.Figure at 0x118141470>"
      ]
     },
     "metadata": {},
     "output_type": "display_data"
    }
   ],
   "source": [
    "import numpy as np\n",
    "def f(x):\n",
    "    res = x**2\n",
    "    if res < 20:\n",
    "        pass\n",
    "    elif res < 25:\n",
    "        res += 2\n",
    "    else:\n",
    "        res = np.nan\n",
    "    return res\n",
    "\n",
    "x = np.linspace(0,10, 100)\n",
    "y = np.empty_like(x)\n",
    "i = 0\n",
    "for xi in x:\n",
    "    y[i]=f(xi)\n",
    "    i+=1\n",
    "\n",
    "%matplotlib inline\n",
    "import matplotlib.pyplot as plt\n",
    "plt.plot(x,y, 'bo')\n",
    "plt.grid(True)"
   ]
  },
  {
   "cell_type": "code",
   "execution_count": 38,
   "metadata": {},
   "outputs": [
    {
     "name": "stdout",
     "output_type": "stream",
     "text": [
      "[[3 2]\n",
      " [1 2]]\n",
      "[[1]\n",
      " [0]]\n",
      "[[ 0.5 ]\n",
      " [-0.25]]\n",
      "[[ 0.5 ]\n",
      " [-0.25]]\n",
      "{(1/2, -1/4)}\n"
     ]
    },
    {
     "data": {
      "image/png": "[encoded data removed]",
      "text/latex": [
       "$$\\left\\{\\left ( \\frac{1}{2}, \\quad - \\frac{1}{4}\\right )\\right\\}$$"
      ],
      "text/plain": [
       "{(1/2, -1/4)}"
      ]
     },
     "execution_count": 38,
     "metadata": {},
     "output_type": "execute_result"
    }
   ],
   "source": [
    "A = np.array([[3, 2],[1, 2]])\n",
    "print(A)\n",
    "b = np.array([[1], [0]])\n",
    "print(b)\n",
    "# x = A^-1 * b\n",
    "sol1 = np.dot(np.linalg.inv(A), b)\n",
    "print(sol1)\n",
    "sol2 = np.linalg.solve(A, b)\n",
    "print(sol2)\n",
    "\n",
    "import sympy as sym\n",
    "sym.init_printing()\n",
    "x, y = sym.symbols('x y')\n",
    "z = sym.linsolve([3*x+2*y-1, x+2*y], (x,y))\n",
    "sym.pprint(z)\n",
    "sym.linsolve([3*x+2*y-1, x+2*y], (x,y))"
   ]
  },
  {
   "cell_type": "code",
   "execution_count": null,
   "metadata": {
    "collapsed": true
   },
   "outputs": [],
   "source": []
  }
 ],
 "metadata": {
  "kernelspec": {
   "display_name": "Python 3",
   "language": "python",
   "name": "python3"
  },
  "language_info": {
   "codemirror_mode": {
    "name": "ipython",
    "version": 3
   },
   "file_extension": ".py",
   "mimetype": "text/x-python",
   "name": "python",
   "nbconvert_exporter": "python",
   "pygments_lexer": "ipython3",
   "version": "3.6.2"
  }
 },
 "nbformat": 4,
 "nbformat_minor": 2
}
