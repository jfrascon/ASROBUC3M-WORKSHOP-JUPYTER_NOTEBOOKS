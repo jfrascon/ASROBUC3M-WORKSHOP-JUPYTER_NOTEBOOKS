{
 "cells": [
  {
   "cell_type": "markdown",
   "metadata": {},
   "source": [
    "# Optimization in Python\n",
    "\n",
    "$$min~x_1x_4\\left(x_1\\,+\\,x_2\\,+\\,x_3\\right)\\,+\\,x_3$$\n",
    "with the constraints:\n",
    "\n",
    "* Inequality constraint:\n",
    "$$x_1 x_2 x_3 x_4\\,\\geq\\,25$$\n",
    "* Equality constraint:\n",
    "$$x_1^2\\,+\\,x_2^2\\,+\\,x_3^2\\,+\\,x_4^2\\,=\\,40$$\n",
    "\n",
    "and bounds:\n",
    "$$1\\,\\leq\\,x_1,\\,x_2,\\,x_3,\\,x_4\\,\\leq\\,5$$\n",
    "\n",
    "Initial values:\n",
    "$$x_1\\,=\\,1,\\,x_2\\,=\\,5,\\,x_3\\,=\\,5,\\,x_4\\,=\\,1$$"
   ]
  },
  {
   "cell_type": "code",
   "execution_count": 10,
   "metadata": {},
   "outputs": [
    {
     "name": "stdout",
     "output_type": "stream",
     "text": [
      "16\n",
      "     fun: 17.01401724556073\n",
      "     jac: array([ 14.57227039,   1.37940764,   2.37940764,   9.56415081])\n",
      " message: 'Optimization terminated successfully.'\n",
      "    nfev: 30\n",
      "     nit: 5\n",
      "    njev: 5\n",
      "  status: 0\n",
      " success: True\n",
      "       x: array([ 1.        ,  4.74299607,  3.82115466,  1.37940764])\n"
     ]
    }
   ],
   "source": [
    "import numpy as np\n",
    "from scipy.optimize import minimize\n",
    "\n",
    "#x1 = x[0]\n",
    "#x2 = x[1]\n",
    "#x3 = x[2]\n",
    "#x4 = x[3]\n",
    "\n",
    "def objective(x):        \n",
    "    return x[0]*x[3]*(x[0] + x[1] + x[2]) + x[2]\n",
    "\n",
    "# x1*x2*x3*x4 - 25 >= 0\n",
    "def constraint1(x):\n",
    "    return x[0]*x[1]*x[2]*x[3] - 25\n",
    "\n",
    "#x1^2 + x2^2 + x3^2 + x4^2 - 40 = 0\n",
    "def constraint2(x):\n",
    "    return x[0]**2 + x[1]**2 + x[2]**2 + x[3]**2 - 40\n",
    "\n",
    "# This initial set of values is not a feasible solution since it\n",
    "# doesn't satisfy the equality constraint (=40)\n",
    "x_init = np.array([1, 5, 5, 1])\n",
    "print(objective(x_init))\n",
    "\n",
    "b = (1.0, 5.0) # limits for each variable\n",
    "bnds = (b, b, b ,b)\n",
    "cons1 = {'type':'ineq', 'fun': constraint1}\n",
    "cons2 = {'type':'eq', 'fun': constraint2}\n",
    "cons = [cons1, cons2]\n",
    "\n",
    "sol = minimize(objective, x_init, method='SLSQP', bounds=bnds,\\\n",
    "               constraints=cons)\n",
    "print(sol)"
   ]
  },
  {
   "cell_type": "code",
   "execution_count": 11,
   "metadata": {},
   "outputs": [
    {
     "name": "stdout",
     "output_type": "stream",
     "text": [
      "17.01401724556073\n",
      "[ 1.          4.74299607  3.82115466  1.37940764]\n"
     ]
    }
   ],
   "source": [
    "print(sol.fun)\n",
    "print(sol.x)"
   ]
  }
 ],
 "metadata": {
  "kernelspec": {
   "display_name": "Python 3",
   "language": "python",
   "name": "python3"
  },
  "language_info": {
   "codemirror_mode": {
    "name": "ipython",
    "version": 3
   },
   "file_extension": ".py",
   "mimetype": "text/x-python",
   "name": "python",
   "nbconvert_exporter": "python",
   "pygments_lexer": "ipython3",
   "version": "3.6.2"
  }
 },
 "nbformat": 4,
 "nbformat_minor": 2
}
